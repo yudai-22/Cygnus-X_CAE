{
 "cells": [
  {
   "cell_type": "code",
   "execution_count": 1,
   "id": "44cadc1c",
   "metadata": {},
   "outputs": [],
   "source": [
    "import torch\n",
    "import torch.nn as nn\n",
    "\n",
    "\n",
    "def Conv_output_results(input_shape, kernel_size, stride, padding):\n",
    "    shape = torch.ones(input_shape)\n",
    "    shape = shape.unsqueeze(0)\n",
    "\n",
    "    if len(shape.shape) == 3:\n",
    "        conv_layer = nn.Conv2d(in_channels=1, out_channels=1, kernel_size=kernel_size, stride=stride, padding=padding)\n",
    "    if len(shape.shape) == 4:\n",
    "        conv_layer = nn.Conv3d(in_channels=1, out_channels=1, kernel_size=kernel_size, stride=stride, padding=padding)\n",
    "\n",
    "    conv_layer.weight = nn.Parameter(torch.ones_like(conv_layer.weight))\n",
    "    conv_layer.bias = nn.Parameter(torch.zeros_like(conv_layer.bias))\n",
    "\n",
    "    output_data = conv_layer(shape).squeeze()\n",
    "    output_shape = tuple(output_data.shape)\n",
    "\n",
    "    # print(f\"入力データ形状: {input_shape}\")\n",
    "    print(f\"出力データ形状: {output_shape}\")\n",
    "\n",
    "    return output_shape\n",
    "\n",
    "\n",
    "def ConvTtranspose_output_results(input_shape, kernel_size, stride, padding):\n",
    "    shape = torch.ones(input_shape)\n",
    "    shape = shape.unsqueeze(0)\n",
    "\n",
    "    if len(shape.shape) == 3:\n",
    "        conv_layer = nn.ConvTranspose2d(in_channels=1, out_channels=1, kernel_size=kernel_size, stride=stride, padding=padding)\n",
    "    if len(shape.shape) == 4:\n",
    "        conv_layer = nn.ConvTranspose3d(in_channels=1, out_channels=1, kernel_size=kernel_size, stride=stride, padding=padding)\n",
    "\n",
    "    conv_layer.weight = nn.Parameter(torch.ones_like(conv_layer.weight))\n",
    "    conv_layer.bias = nn.Parameter(torch.zeros_like(conv_layer.bias))\n",
    "\n",
    "    output_data = conv_layer(shape).squeeze()\n",
    "    output_shape = tuple(output_data.shape)\n",
    "\n",
    "    # print(f\"入力データ形状: {input_shape}\")\n",
    "    print(f\"出力データ形状: {output_shape}\")\n",
    "\n",
    "    return output_shape"
   ]
  },
  {
   "cell_type": "markdown",
   "id": "6674f0c8",
   "metadata": {},
   "source": [
    "# 6層"
   ]
  },
  {
   "cell_type": "code",
   "execution_count": 266,
   "id": "c04ff233",
   "metadata": {},
   "outputs": [
    {
     "name": "stdout",
     "output_type": "stream",
     "text": [
      "出力データ形状: (60, 56, 56)\n",
      "出力データ形状: (30, 28, 28)\n",
      "出力データ形状: (14, 13, 13)\n",
      "出力データ形状: (29, 27, 27)\n",
      "出力データ形状: (59, 55, 55)\n",
      "出力データ形状: (120, 112, 112)\n"
     ]
    }
   ],
   "source": [
    "Conv01 = Conv_output_results((120, 112, 112), kernel_size=3, stride=(2, 2, 2), padding=(1, 1, 1))\n",
    "Conv02 = Conv_output_results(Conv01, kernel_size=3, stride=(2, 2, 2), padding=(1, 1, 1))\n",
    "Conv03 = Conv_output_results(Conv02, kernel_size=3, stride=2, padding=0)\n",
    "\n",
    "Deconv01 = ConvTtranspose_output_results(Conv03, kernel_size=5, stride=(2, 2, 2), padding=(1, 1, 1))\n",
    "Deconv02 = ConvTtranspose_output_results(Deconv01, kernel_size=5, stride=(2, 2, 2), padding=1)\n",
    "Deconv03 = ConvTtranspose_output_results(Deconv02, kernel_size=4, stride=(2, 2, 2), padding=(0, 0, 0))\n"
   ]
  },
  {
   "cell_type": "markdown",
   "id": "a9325d81",
   "metadata": {},
   "source": [
    "# 7層"
   ]
  },
  {
   "cell_type": "code",
   "execution_count": 92,
   "id": "31024035",
   "metadata": {},
   "outputs": [
    {
     "name": "stdout",
     "output_type": "stream",
     "text": [
      "出力データ形状: (60, 56, 56)\n",
      "出力データ形状: (30, 28, 28)\n",
      "出力データ形状: (14, 13, 13)\n",
      "出力データ形状: (29, 27, 27)\n",
      "出力データ形状: (59, 55, 55)\n",
      "出力データ形状: (118, 110, 110)\n",
      "出力データ形状: (120, 112, 112)\n"
     ]
    }
   ],
   "source": [
    "Conv01 = Conv_output_results((120, 112, 112), kernel_size=3, stride=(2, 2, 2), padding=(1, 1, 1))\n",
    "Conv02 = Conv_output_results(Conv01, kernel_size=3, stride=(2, 2, 2), padding=(1, 1, 1))\n",
    "Conv03 = Conv_output_results(Conv02, kernel_size=3, stride=(2, 2, 2), padding=0)\n",
    "\n",
    "Deconv01 = ConvTtranspose_output_results(Conv03, kernel_size=5, stride=(2, 2, 2), padding=(1, 1, 1))\n",
    "Deconv02 = ConvTtranspose_output_results(Deconv01, kernel_size=5, stride=(2, 2, 2), padding=(1, 1, 1))\n",
    "Deconv03 = ConvTtranspose_output_results(Deconv02, kernel_size=4, stride=(2, 2, 2), padding=(1, 1, 1))\n",
    "Deconv04 = ConvTtranspose_output_results(Deconv03, kernel_size=3, stride=(1, 1, 1), padding=(0, 0, 0))\n",
    "\n",
    " \n"
   ]
  },
  {
   "cell_type": "markdown",
   "id": "7320f970",
   "metadata": {},
   "source": [
    "# 8層"
   ]
  },
  {
   "cell_type": "code",
   "execution_count": 268,
   "id": "83636a4e",
   "metadata": {},
   "outputs": [
    {
     "name": "stdout",
     "output_type": "stream",
     "text": [
      "出力データ形状: (60, 56, 56)\n",
      "出力データ形状: (30, 28, 28)\n",
      "出力データ形状: (15, 14, 14)\n",
      "出力データ形状: (14, 13, 13)\n",
      "出力データ形状: (29, 27, 27)\n",
      "出力データ形状: (59, 55, 55)\n",
      "出力データ形状: (118, 110, 110)\n",
      "出力データ形状: (120, 112, 112)\n"
     ]
    }
   ],
   "source": [
    "Conv01 = Conv_output_results((120, 112, 112), kernel_size=3, stride=(2, 2, 2), padding=(1, 1, 1))\n",
    "Conv02 = Conv_output_results(Conv01, kernel_size=3, stride=(2, 2, 2), padding=(1, 1, 1))\n",
    "Conv03 = Conv_output_results(Conv02, kernel_size=3, stride=(2, 2, 2), padding=(1, 1, 1))\n",
    "Conv04 = Conv_output_results(Conv03, kernel_size=2, stride=(1, 1, 1), padding=0)\n",
    "\n",
    "Deconv01 = ConvTtranspose_output_results(Conv04, kernel_size=5, stride=(2, 2, 2), padding=(1, 1, 1))\n",
    "Deconv02 = ConvTtranspose_output_results(Deconv01, kernel_size=5, stride=(2, 2, 2), padding=(1, 1, 1))\n",
    "Deconv03 = ConvTtranspose_output_results(Deconv02, kernel_size=4, stride=(2, 2, 2), padding=(1, 1, 1))\n",
    "Deconv04 = ConvTtranspose_output_results(Deconv03, kernel_size=3, stride=(1, 1, 1), padding=(0, 0, 0)) \n"
   ]
  },
  {
   "cell_type": "markdown",
   "id": "7cd6a1ac",
   "metadata": {},
   "source": [
    "# 9層"
   ]
  },
  {
   "cell_type": "code",
   "execution_count": 269,
   "id": "0f39be32",
   "metadata": {},
   "outputs": [
    {
     "name": "stdout",
     "output_type": "stream",
     "text": [
      "出力データ形状: (60, 56, 56)\n",
      "出力データ形状: (30, 28, 28)\n",
      "出力データ形状: (15, 14, 14)\n",
      "出力データ形状: (13, 12, 12)\n",
      "出力データ形状: (28, 26, 26)\n",
      "出力データ形状: (57, 53, 53)\n",
      "出力データ形状: (114, 106, 106)\n",
      "出力データ形状: (117, 109, 109)\n",
      "出力データ形状: (120, 112, 112)\n"
     ]
    }
   ],
   "source": [
    "Conv01 = Conv_output_results((120, 112, 112), kernel_size=3, stride=(2, 2, 2), padding=(1, 1, 1))\n",
    "Conv02 = Conv_output_results(Conv01, kernel_size=3, stride=(2, 2, 2), padding=(1, 1, 1))\n",
    "Conv03 = Conv_output_results(Conv02, kernel_size=3, stride=(2, 2, 2), padding=(1, 1, 1))\n",
    "Conv04 = Conv_output_results(Conv03, kernel_size=3, stride=1, padding=0)\n",
    "\n",
    "Deconv01 = ConvTtranspose_output_results(Conv04, kernel_size=6, stride=(2, 2, 2), padding=(1, 1, 1))\n",
    "Deconv02 = ConvTtranspose_output_results(Deconv01, kernel_size=5, stride=(2, 2, 2), padding=(1, 1, 1))\n",
    "Deconv03 = ConvTtranspose_output_results(Deconv02, kernel_size=4, stride=(2, 2, 2), padding=(1, 1, 1))\n",
    "Deconv04 = ConvTtranspose_output_results(Deconv03, kernel_size=4, stride=1, padding=0) \n",
    "Deconv05 = ConvTtranspose_output_results(Deconv04, kernel_size=4, stride=(1, 1, 1), padding=(0, 0, 0)) "
   ]
  },
  {
   "cell_type": "markdown",
   "id": "233f4184",
   "metadata": {},
   "source": [
    "# 10層"
   ]
  },
  {
   "cell_type": "code",
   "execution_count": 274,
   "id": "73af63a9",
   "metadata": {},
   "outputs": [
    {
     "name": "stdout",
     "output_type": "stream",
     "text": [
      "出力データ形状: (60, 56, 56)\n",
      "出力データ形状: (30, 28, 28)\n",
      "出力データ形状: (15, 14, 14)\n",
      "出力データ形状: (15, 14, 14)\n",
      "出力データ形状: (13, 12, 12)\n",
      "出力データ形状: (28, 26, 26)\n",
      "出力データ形状: (57, 53, 53)\n",
      "出力データ形状: (116, 108, 108)\n",
      "出力データ形状: (118, 110, 110)\n",
      "出力データ形状: (120, 112, 112)\n"
     ]
    }
   ],
   "source": [
    "Conv01 = Conv_output_results((120, 112, 112), kernel_size=3, stride=(2, 2, 2), padding=(1, 1, 1))\n",
    "Conv02 = Conv_output_results(Conv01, kernel_size=3, stride=(2, 2, 2), padding=(1, 1, 1))\n",
    "Conv03 = Conv_output_results(Conv02, kernel_size=3, stride=(2, 2, 2), padding=(1, 1, 1))\n",
    "Conv04 = Conv_output_results(Conv03, kernel_size=3, stride=1, padding=1)\n",
    "Conv05 = Conv_output_results(Conv04, kernel_size=3, stride=1, padding=0)\n",
    "\n",
    "\n",
    "Deconv01 = ConvTtranspose_output_results(Conv05, kernel_size=6, stride=(2, 2, 2), padding=(1, 1, 1))\n",
    "Deconv02 = ConvTtranspose_output_results(Deconv01, kernel_size=5, stride=(2, 2, 2), padding=(1, 1, 1))\n",
    "Deconv03 = ConvTtranspose_output_results(Deconv02, kernel_size=4, stride=(2, 2, 2), padding=0)\n",
    "Deconv04 = ConvTtranspose_output_results(Deconv03, kernel_size=3, stride=1, padding=0) \n",
    "Deconv05 = ConvTtranspose_output_results(Deconv04, kernel_size=3, stride=(1, 1, 1), padding=(0, 0, 0)) "
   ]
  },
  {
   "cell_type": "markdown",
   "id": "5f9f3237",
   "metadata": {},
   "source": [
    "# 11層"
   ]
  },
  {
   "cell_type": "markdown",
   "id": "fe00b57c",
   "metadata": {},
   "source": []
  },
  {
   "cell_type": "code",
   "execution_count": 300,
   "id": "43cb8eba",
   "metadata": {},
   "outputs": [
    {
     "name": "stdout",
     "output_type": "stream",
     "text": [
      "出力データ形状: (60, 56, 56)\n",
      "出力データ形状: (30, 28, 28)\n",
      "出力データ形状: (15, 14, 14)\n",
      "出力データ形状: (15, 14, 14)\n",
      "出力データ形状: (13, 12, 12)\n",
      "出力データ形状: (28, 26, 26)\n",
      "出力データ形状: (57, 53, 53)\n",
      "出力データ形状: (114, 106, 106)\n",
      "出力データ形状: (116, 108, 108)\n",
      "出力データ形状: (118, 110, 110)\n",
      "出力データ形状: (120, 112, 112)\n"
     ]
    }
   ],
   "source": [
    "Conv01 = Conv_output_results((120, 112, 112), kernel_size=3, stride=(2, 2, 2), padding=(1, 1, 1))\n",
    "Conv02 = Conv_output_results(Conv01, kernel_size=3, stride=(2, 2, 2), padding=(1, 1, 1))\n",
    "Conv03 = Conv_output_results(Conv02, kernel_size=(3, 3, 3), stride=(2, 2, 2), padding=(1, 1, 1))\n",
    "Conv04 = Conv_output_results(Conv03, kernel_size=3, stride=1, padding=(1, 1, 1))\n",
    "Conv05 = Conv_output_results(Conv04, kernel_size=3, stride=(1, 1, 1), padding=0)\n",
    "\n",
    "\n",
    "Deconv01 = ConvTtranspose_output_results(Conv05, kernel_size=6, stride=(2, 2, 2), padding=(1, 1, 1))\n",
    "Deconv02 = ConvTtranspose_output_results(Deconv01, kernel_size=5, stride=(2, 2, 2), padding=(1, 1, 1))\n",
    "Deconv03 = ConvTtranspose_output_results(Deconv02, kernel_size=4, stride=(2, 2, 2), padding=1)\n",
    "Deconv04 = ConvTtranspose_output_results(Deconv03, kernel_size=3, stride=1, padding=0) \n",
    "Deconv05 = ConvTtranspose_output_results(Deconv04, kernel_size=3, stride=(1, 1, 1), padding=0) \n",
    "Deconv06 = ConvTtranspose_output_results(Deconv05, kernel_size=3, stride=(1, 1, 1), padding=(0, 0, 0)) "
   ]
  },
  {
   "cell_type": "code",
   "execution_count": null,
   "id": "e70fc32f",
   "metadata": {},
   "outputs": [],
   "source": [
    "        # Encoder\n",
    "        self.encoder = nn.Sequential(\n",
    "            nn.Conv3d(1, 64, kernel_size=(4, 4, 4), stride=(2, 2, 2), padding=(1, 1, 1)),  # output=(60, 56, 56)\n",
    "            nn.ReLU(True),\n",
    "            nn.Conv3d(64, 32, kernel_size=(4, 4, 4), stride=(2, 2, 2), padding=(1, 1, 1)),  # output=(30, 28, 28)\n",
    "            nn.ReLU(True),\n",
    "            nn.Conv3d(32, 16, kernel_size=(4, 4, 4), stride=(2, 2, 2), padding=(1, 1, 1)),  # output=(15, 14, 14)\n",
    "            nn.ReLU(True),\n",
    "            nn.Conv3d(16, 16, kernel_size=(4, 4, 4), stride=(2, 2, 2), padding=(0, 0, 0)),  #output=(6, 6, 6)\n",
    "            nn.ReLU(True),\n",
    "            nn.Flatten(),\n",
    "            nn.Linear(16 * 6 * 6 * 6, latent),  # Adjust the size based on the flattened output\n",
    "        )\n",
    "\n",
    "        # Decoder\n",
    "        self.decoder = nn.Sequential(\n",
    "            nn.Linear(latent, 16 * 6 * 6 * 6),\n",
    "            nn.Unflatten(1, (16, 6, 6, 6)),# Unflatten back to (32, 5, 25, 25)\n",
    "            nn.ConvTranspose3d(\n",
    "                16, 16, kernel_size=(6, 6, 6), stride=(2, 2, 2), padding=(1, 1, 1)\n",
    "            ),  # output=(8, 56, 56)\n",
    "            nn.ReLU(True),\n",
    "            nn.ConvTranspose3d(\n",
    "                16, 32, kernel_size=(5, 4, 4), stride=(2, 2, 2), padding=(1, 1, 1)\n",
    "            ),  # output=(8, 56, 56)\n",
    "            nn.ReLU(True),\n",
    "            nn.ConvTranspose3d(\n",
    "                32, 64, kernel_size=(5, 4, 4), stride=(2, 2, 2), padding=(1, 1, 1)\n",
    "            ),  # output=(10, 111, 111)\n",
    "            nn.ReLU(True),\n",
    "            nn.ConvTranspose3d(\n",
    "                64, 32, kernel_size=(4, 3, 3), stride=(2, 2, 2), padding=(1, 1, 1)\n",
    "            ),  # output=(12, 112, 112)\n",
    "            nn.ReLU(True),\n",
    "            nn.ConvTranspose3d(\n",
    "                32, 1, kernel_size=(3, 2, 2), stride=(1, 1, 1), padding=(0, 0, 0)\n",
    "            ),  # output=(8, 56, 56),\n",
    "            nn.Sigmoid(),  # to scale output between 0 and 1\n",
    "        )"
   ]
  },
  {
   "cell_type": "code",
   "execution_count": null,
   "id": "d443eb3a",
   "metadata": {},
   "outputs": [],
   "source": [
    "self.encoder = nn.Sequential(\n",
    "        nn.Conv3d(1, 64, kernel_size=(4, 4, 4), stride=(2, 2, 2), padding=(1, 1, 1)),  \n",
    "        nn.ReLU(True),\n",
    "        nn.Conv3d(64, 32, kernel_size=(4, 4, 4), stride=(2, 2, 2), padding=(1, 1, 1)),  \n",
    "        nn.ReLU(True),\n",
    "        nn.Conv3d(32, 16, kernel_size=(4, 4, 4), stride=(2, 2, 2), padding=(1, 1, 1)),  \n",
    "        nn.ReLU(True),\n",
    "        nn.Flatten(),\n",
    "        nn.Linear(16 * 15 * 14 * 14, latent),  # Adjust the size based on the flattened output\n",
    "    )\n",
    "\n",
    "    # Decoder\n",
    "    self.decoder = nn.Sequential(\n",
    "        nn.Linear(latent, 16 * 15 * 14 * 14),\n",
    "        nn.Unflatten(1, (16, 15, 14, 14)),  # Unflatten back to (32, 5, 25, 25)\n",
    "        nn.ConvTranspose3d(\n",
    "            16, 32, kernel_size=(4, 4, 4), stride=(2, 2, 2), padding=(1, 1, 1)), \n",
    "        nn.ReLU(True),\n",
    "        nn.ConvTranspose3d(\n",
    "            32, 64, kernel_size=(4, 4, 4), stride=(2, 2, 2), padding=(1, 1, 1)), \n",
    "        nn.ReLU(True),\n",
    "        nn.ConvTranspose3d(\n",
    "            64, 32, kernel_size=(3, 3, 3), stride=(2, 2, 2), padding=(1, 1, 1)),\n",
    "        nn.ReLU(True),\n",
    "        nn.ConvTranspose3d(\n",
    "            32, 1, kernel_size=(2, 2, 2), stride=(1, 1, 1), padding=(0, 0, 0)),\n",
    "        nn.Sigmoid(),  # to scale output between 0 and 1\n",
    "        )"
   ]
  },
  {
   "cell_type": "markdown",
   "id": "4e87b9a2",
   "metadata": {},
   "source": []
  },
  {
   "cell_type": "code",
   "execution_count": 1,
   "id": "b7d28428",
   "metadata": {},
   "outputs": [
    {
     "data": {
      "text/plain": [
       "0"
      ]
     },
     "execution_count": 1,
     "metadata": {},
     "output_type": "execute_result"
    }
   ],
   "source": [
    "list = [0, 1, 2, 3]\n",
    "min(list)"
   ]
  },
  {
   "cell_type": "code",
   "execution_count": null,
   "id": "013c56b9",
   "metadata": {},
   "outputs": [],
   "source": []
  }
 ],
 "metadata": {
  "kernelspec": {
   "display_name": "base",
   "language": "python",
   "name": "python3"
  },
  "language_info": {
   "codemirror_mode": {
    "name": "ipython",
    "version": 3
   },
   "file_extension": ".py",
   "mimetype": "text/x-python",
   "name": "python",
   "nbconvert_exporter": "python",
   "pygments_lexer": "ipython3",
   "version": "3.12.7"
  }
 },
 "nbformat": 4,
 "nbformat_minor": 5
}
