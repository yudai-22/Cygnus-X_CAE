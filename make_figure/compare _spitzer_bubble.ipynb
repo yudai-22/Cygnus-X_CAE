{
 "cells": [
  {
   "cell_type": "code",
   "execution_count": 6,
   "id": "3dacf2bb-b188-4f7f-a67b-d29d3e0b428b",
   "metadata": {},
   "outputs": [],
   "source": [
    "import astropy.io.fits as fits\n",
    "from astropy.wcs import WCS\n",
    "import pandas as pd\n",
    "\n",
    "import numpy as np\n",
    "import matplotlib.pyplot as plt\n",
    "from tqdm.notebook import tqdm\n",
    "from concurrent.futures import ProcessPoolExecutor\n",
    "from functools import partial\n",
    "import japanize_matplotlib\n",
    "from scipy.signal import fftconvolve\n",
    "from scipy import signal\n",
    "\n",
    "import random\n",
    "\n",
    "import scipy.ndimage \n",
    "from astropy.convolution import convolve, convolve_fft, Gaussian2DKernel, Tophat2DKernel, Gaussian1DKernel\n",
    "from astropy.modeling.models import Gaussian2D\n",
    "import scipy.signal\n",
    "from astropy.wcs import WCS\n",
    "\n",
    "import sys\n",
    "sys.path.append(\"/home/filament/fujimoto/Cygnus-X_CAE/data/process_tools\")\n",
    "from Astronomy import *\n",
    "from cut_resize_tools import *\n",
    "\n",
    "\n",
    "Image.MAX_IMAGE_PIXELS = 1000000000"
   ]
  },
  {
   "cell_type": "code",
   "execution_count": 3,
   "id": "67f890ee-3dbc-4192-8d32-8f8229532d75",
   "metadata": {},
   "outputs": [],
   "source": [
    "nro_path = \"/home/filament/fujimoto/Cygnus-X_CAE/fits/Cygnus_sp16_vs-40_ve040_dv0.25_12CO_Tmb.fits\"\n",
    "spitzer_R = \"/home/filament/jupyter/fits_data/cygnus_fits/M1_fits_file/M1_cygnus_2.4.fits\"\n",
    "spitzer_G = \"/home/filament/jupyter/fits_data/cygnus_fits/I4_fits_file/I4_2.4_reg.fits\"##2D\n",
    "integ_hdu = fits.open(\"/home/filament/fujimoto/fits/CygnusX_sp16_120-230_integrate_map.fits\")[0]\n",
    "\n",
    "w_high = WCS(fits_path)\n",
    "hdu = fits.open(fits_path)[0]\n"
   ]
  },
  {
   "cell_type": "code",
   "execution_count": null,
   "id": "5e8e4932-940e-4365-9de9-c83a59507670",
   "metadata": {},
   "outputs": [],
   "source": []
  }
 ],
 "metadata": {
  "kernelspec": {
   "display_name": "Python 3 (ipykernel)",
   "language": "python",
   "name": "python3"
  },
  "language_info": {
   "codemirror_mode": {
    "name": "ipython",
    "version": 3
   },
   "file_extension": ".py",
   "mimetype": "text/x-python",
   "name": "python",
   "nbconvert_exporter": "python",
   "pygments_lexer": "ipython3",
   "version": "3.8.10"
  }
 },
 "nbformat": 4,
 "nbformat_minor": 5
}
